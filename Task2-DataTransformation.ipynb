{
 "cells": [
  {
   "cell_type": "code",
   "execution_count": 1,
   "id": "ca9b3619",
   "metadata": {},
   "outputs": [],
   "source": [
    "# Task 2: Data Transformation\n",
    "\n",
    "#This notebook demonstrates techniques for transforming the Iris dataset, including encoding categorical data, feature engineering, and aggregating data for better analysis. "
   ]
  },
  {
   "cell_type": "code",
   "execution_count": 13,
   "id": "cd3e7bbe",
   "metadata": {},
   "outputs": [
    {
     "data": {
      "text/html": [
       "<div>\n",
       "<style scoped>\n",
       "    .dataframe tbody tr th:only-of-type {\n",
       "        vertical-align: middle;\n",
       "    }\n",
       "\n",
       "    .dataframe tbody tr th {\n",
       "        vertical-align: top;\n",
       "    }\n",
       "\n",
       "    .dataframe thead th {\n",
       "        text-align: right;\n",
       "    }\n",
       "</style>\n",
       "<table border=\"1\" class=\"dataframe\">\n",
       "  <thead>\n",
       "    <tr style=\"text-align: right;\">\n",
       "      <th></th>\n",
       "      <th>sepal length (cm)</th>\n",
       "      <th>sepal width (cm)</th>\n",
       "      <th>petal length (cm)</th>\n",
       "      <th>petal width (cm)</th>\n",
       "      <th>species</th>\n",
       "    </tr>\n",
       "  </thead>\n",
       "  <tbody>\n",
       "    <tr>\n",
       "      <th>0</th>\n",
       "      <td>5.1</td>\n",
       "      <td>3.5</td>\n",
       "      <td>1.4</td>\n",
       "      <td>0.2</td>\n",
       "      <td>0</td>\n",
       "    </tr>\n",
       "    <tr>\n",
       "      <th>1</th>\n",
       "      <td>4.9</td>\n",
       "      <td>3.0</td>\n",
       "      <td>1.4</td>\n",
       "      <td>0.2</td>\n",
       "      <td>0</td>\n",
       "    </tr>\n",
       "    <tr>\n",
       "      <th>2</th>\n",
       "      <td>4.7</td>\n",
       "      <td>3.2</td>\n",
       "      <td>1.3</td>\n",
       "      <td>0.2</td>\n",
       "      <td>0</td>\n",
       "    </tr>\n",
       "    <tr>\n",
       "      <th>3</th>\n",
       "      <td>4.6</td>\n",
       "      <td>3.1</td>\n",
       "      <td>1.5</td>\n",
       "      <td>0.2</td>\n",
       "      <td>0</td>\n",
       "    </tr>\n",
       "    <tr>\n",
       "      <th>4</th>\n",
       "      <td>5.0</td>\n",
       "      <td>3.6</td>\n",
       "      <td>1.4</td>\n",
       "      <td>0.2</td>\n",
       "      <td>0</td>\n",
       "    </tr>\n",
       "  </tbody>\n",
       "</table>\n",
       "</div>"
      ],
      "text/plain": [
       "   sepal length (cm)  sepal width (cm)  petal length (cm)  petal width (cm)  \\\n",
       "0                5.1               3.5                1.4               0.2   \n",
       "1                4.9               3.0                1.4               0.2   \n",
       "2                4.7               3.2                1.3               0.2   \n",
       "3                4.6               3.1                1.5               0.2   \n",
       "4                5.0               3.6                1.4               0.2   \n",
       "\n",
       "   species  \n",
       "0        0  \n",
       "1        0  \n",
       "2        0  \n",
       "3        0  \n",
       "4        0  "
      ]
     },
     "execution_count": 13,
     "metadata": {},
     "output_type": "execute_result"
    }
   ],
   "source": [
    "# Import necessary libraries\n",
    "import pandas as pd\n",
    "from sklearn.datasets import load_iris\n",
    "from sklearn.preprocessing import OneHotEncoder, LabelEncoder\n",
    "\n",
    "# Load Iris dataset\n",
    "iris = load_iris()\n",
    "data = pd.DataFrame(iris.data, columns=iris.feature_names)\n",
    "data['species'] = iris.target\n",
    "\n",
    "# Display the first few rows\n",
    "data.head()\n"
   ]
  },
  {
   "cell_type": "code",
   "execution_count": 14,
   "id": "0932a6c8",
   "metadata": {},
   "outputs": [],
   "source": [
    "# Step 1: One-Hot Encoding for Nominal Variables\n",
    "# We’ll apply one-hot encoding to the `species` column to create separate binary columns for each species type.\n"
   ]
  },
  {
   "cell_type": "code",
   "execution_count": 16,
   "id": "1394bd35",
   "metadata": {},
   "outputs": [
    {
     "name": "stdout",
     "output_type": "stream",
     "text": [
      "Data before one-hot encoding:\n",
      "    sepal length (cm)  sepal width (cm)  petal length (cm)  petal width (cm)  \\\n",
      "0                5.1               3.5                1.4               0.2   \n",
      "1                4.9               3.0                1.4               0.2   \n",
      "2                4.7               3.2                1.3               0.2   \n",
      "3                4.6               3.1                1.5               0.2   \n",
      "4                5.0               3.6                1.4               0.2   \n",
      "\n",
      "   species  \n",
      "0        0  \n",
      "1        0  \n",
      "2        0  \n",
      "3        0  \n",
      "4        0  \n",
      "\n",
      "Data after one-hot encoding:\n",
      "    sepal length (cm)  sepal width (cm)  petal length (cm)  petal width (cm)  \\\n",
      "0                5.1               3.5                1.4               0.2   \n",
      "1                4.9               3.0                1.4               0.2   \n",
      "2                4.7               3.2                1.3               0.2   \n",
      "3                4.6               3.1                1.5               0.2   \n",
      "4                5.0               3.6                1.4               0.2   \n",
      "\n",
      "   species_0  species_1  species_2  \n",
      "0          1          0          0  \n",
      "1          1          0          0  \n",
      "2          1          0          0  \n",
      "3          1          0          0  \n",
      "4          1          0          0  \n"
     ]
    }
   ],
   "source": [
    "# One-hot encode the 'species' column\n",
    "data_one_hot_encoded = pd.get_dummies(data, columns=['species'], prefix='species')\n",
    "\n",
    "# Display data before and after one-hot encoding\n",
    "print(\"Data before one-hot encoding:\\n\", data.head())\n",
    "print(\"\\nData after one-hot encoding:\\n\", data_one_hot_encoded.head())\n"
   ]
  },
  {
   "cell_type": "code",
   "execution_count": 17,
   "id": "ce68dd5e",
   "metadata": {},
   "outputs": [],
   "source": [
    "# Step 2: Label Encoding for Ordinal Variables\n",
    "#Label encoding is suitable for ordinal data. Suppose we add a hypothetical `size` column (small, medium, large) for demonstration.\n"
   ]
  },
  {
   "cell_type": "code",
   "execution_count": 19,
   "id": "a6bac916",
   "metadata": {},
   "outputs": [
    {
     "name": "stdout",
     "output_type": "stream",
     "text": [
      "Data before label encoding:\n",
      "      size\n",
      "0   small\n",
      "1  medium\n",
      "2   large\n",
      "3  medium\n",
      "4   small\n",
      "\n",
      "Data after label encoding:\n",
      "      size  size_encoded\n",
      "0   small             2\n",
      "1  medium             1\n",
      "2   large             0\n",
      "3  medium             1\n",
      "4   small             2\n"
     ]
    }
   ],
   "source": [
    "# Add a hypothetical 'size' column\n",
    "data['size'] = ['small', 'medium', 'large', 'medium', 'small'] * 30  # Just a repeating pattern\n",
    "\n",
    "# Initialize label encoder and encode 'size'\n",
    "label_encoder = LabelEncoder()\n",
    "data['size_encoded'] = label_encoder.fit_transform(data['size'])\n",
    "\n",
    "# Display data before and after label encoding\n",
    "print(\"Data before label encoding:\\n\", data[['size']].head())\n",
    "print(\"\\nData after label encoding:\\n\", data[['size', 'size_encoded']].head())\n"
   ]
  },
  {
   "cell_type": "code",
   "execution_count": 20,
   "id": "d475016c",
   "metadata": {},
   "outputs": [],
   "source": [
    "# Step 3: Feature Engineering\n",
    "#We’ll create a new feature by combining `sepal length` and `sepal width` to analyze the interaction between these dimensions.\n"
   ]
  },
  {
   "cell_type": "code",
   "execution_count": 21,
   "id": "9b26e079",
   "metadata": {},
   "outputs": [
    {
     "name": "stdout",
     "output_type": "stream",
     "text": [
      "Data before adding interaction feature:\n",
      "    sepal length (cm)  sepal width (cm)\n",
      "0                5.1               3.5\n",
      "1                4.9               3.0\n",
      "2                4.7               3.2\n",
      "3                4.6               3.1\n",
      "4                5.0               3.6\n",
      "\n",
      "Data after adding interaction feature:\n",
      "    sepal length (cm)  sepal width (cm)  sepal_area\n",
      "0                5.1               3.5       17.85\n",
      "1                4.9               3.0       14.70\n",
      "2                4.7               3.2       15.04\n",
      "3                4.6               3.1       14.26\n",
      "4                5.0               3.6       18.00\n"
     ]
    }
   ],
   "source": [
    "# Create an interaction feature between sepal length and sepal width\n",
    "data['sepal_area'] = data['sepal length (cm)'] * data['sepal width (cm)']\n",
    "\n",
    "# Display data before and after adding interaction feature\n",
    "print(\"Data before adding interaction feature:\\n\", data[['sepal length (cm)', 'sepal width (cm)']].head())\n",
    "print(\"\\nData after adding interaction feature:\\n\", data[['sepal length (cm)', 'sepal width (cm)', 'sepal_area']].head())\n"
   ]
  },
  {
   "cell_type": "code",
   "execution_count": 23,
   "id": "59ab8716",
   "metadata": {},
   "outputs": [],
   "source": [
    "# Step 4: Aggregation Functions\n",
    "#We’ll summarize the dataset by grouping by `species` and calculating the mean for each feature to observe species-wise trends.\n"
   ]
  },
  {
   "cell_type": "code",
   "execution_count": 25,
   "id": "4efdaa54",
   "metadata": {},
   "outputs": [
    {
     "name": "stdout",
     "output_type": "stream",
     "text": [
      "Species-wise mean of each feature:\n",
      "          sepal length (cm)  sepal width (cm)  petal length (cm)  \\\n",
      "species                                                           \n",
      "0                    5.006             3.428              1.462   \n",
      "1                    5.936             2.770              4.260   \n",
      "2                    6.588             2.974              5.552   \n",
      "\n",
      "         petal width (cm)  size_encoded  sepal_area  \n",
      "species                                              \n",
      "0                   0.246           1.2     17.2578  \n",
      "1                   1.326           1.2     16.5262  \n",
      "2                   2.026           1.2     19.6846  \n"
     ]
    }
   ],
   "source": [
    "# Group by species and calculate mean of each feature\n",
    "data_grouped = data.groupby('species').mean()\n",
    "\n",
    "# Display the aggregated data\n",
    "print(\"Species-wise mean of each feature:\\n\", data_grouped)\n"
   ]
  },
  {
   "cell_type": "code",
   "execution_count": null,
   "id": "dc5766e5",
   "metadata": {},
   "outputs": [],
   "source": [
    "# Summary\n",
    "\n",
    "In this notebook, I have transformed the Iris dataset as follows:\n",
    "1. **Encoded Categorical Data**: Used one-hot encoding for the nominal `species` column and label encoding for a hypothetical ordinal column.\n",
    "2. **Feature Engineering**: Created a new feature (`sepal_area`) by combining `sepal length` and `sepal width`.\n",
    "3. **Aggregated Data**: Grouped by `species` to calculate the mean of each feature, allowing us to see species-level trends.\n",
    "\n",
    "These transformations prepare the dataset for improved analysis and modeling.\n"
   ]
  }
 ],
 "metadata": {
  "kernelspec": {
   "display_name": "Python 3 (ipykernel)",
   "language": "python",
   "name": "python3"
  },
  "language_info": {
   "codemirror_mode": {
    "name": "ipython",
    "version": 3
   },
   "file_extension": ".py",
   "mimetype": "text/x-python",
   "name": "python",
   "nbconvert_exporter": "python",
   "pygments_lexer": "ipython3",
   "version": "3.9.13"
  }
 },
 "nbformat": 4,
 "nbformat_minor": 5
}
